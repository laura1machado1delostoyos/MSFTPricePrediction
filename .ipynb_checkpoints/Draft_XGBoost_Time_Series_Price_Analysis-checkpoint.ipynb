{
 "cells": [
  {
   "cell_type": "code",
   "execution_count": 1,
   "metadata": {
    "id": "4onxC3ujDvos"
   },
   "outputs": [],
   "source": [
    "from datetime import date\n",
    "import yfinance as yf\n",
    "import pandas as pd\n",
    "import numpy as np\n",
    "import warnings\n",
    "\n",
    "\n",
    "# Suppress future warnings\n",
    "warnings.filterwarnings('ignore', category=FutureWarning)"
   ]
  },
  {
   "cell_type": "markdown",
   "metadata": {
    "id": "lwQlaQk8oiC_"
   },
   "source": [
    "# 1. Introduction\n",
    "\n"
   ]
  },
  {
   "cell_type": "code",
   "execution_count": 2,
   "metadata": {
    "id": "rUt4YyyF7u1J"
   },
   "outputs": [],
   "source": [
    "stock_ticker = 'MSFT'"
   ]
  },
  {
   "cell_type": "markdown",
   "metadata": {
    "id": "a2en9Atrooqk"
   },
   "source": [
    "# 2. Fetching the Data\n",
    "Typically, the `yfinance` module can go back as far back in time as the historical data of a stock in the market. For stocks like microsoft and Apple, this could mean over 35 years of data. This is not in itself a problem, except for the fact that in the models that we need to develop, we want to build in two exogeneous variables to help with predictions:\n",
    "* The daily price of  TIP, which started trading on 5th December 2003.\n",
    "* The Microsoft Earnings calls, which go back as far as 26th January 2015. These calls have taken place quarterly since the company first went public in 1986; however, the data for the estimated and actual earnings per share is not available on their site prior to 2015.\n"
   ]
  },
  {
   "cell_type": "markdown",
   "metadata": {
    "id": "PmPVFaG7o5mA"
   },
   "source": [
    "## 2.1. Extracting Daily Closing Prices for a TIPS"
   ]
  },
  {
   "cell_type": "markdown",
   "metadata": {
    "id": "mN58g0yy4pxi"
   },
   "source": [
    "* The longest-running ETF that tracks Treasury Inflation-Protected Securities (TIPS) is the iShares TIPS Bond ETF (ticker: **TIP**).\n",
    "* It was launched by BlackRock on December 4, 2003.\n",
    "\n",
    "* This ETF aims to track the investment results of an index composed of inflation-protected U.S. Treasury bonds.\n",
    "* It's one of the most well-known and widely traded TIPS ETFs, providing investors with exposure to inflation-protected bonds issued by the U.S. government."
   ]
  },
  {
   "cell_type": "code",
   "execution_count": 3,
   "metadata": {
    "colab": {
     "base_uri": "https://localhost:8080/",
     "height": 272
    },
    "id": "_SqffLopo4zN",
    "outputId": "757e8e31-3d11-42d0-c2d3-cd864a1248e4"
   },
   "outputs": [
    {
     "data": {
      "text/html": [
       "<div>\n",
       "<style scoped>\n",
       "    .dataframe tbody tr th:only-of-type {\n",
       "        vertical-align: middle;\n",
       "    }\n",
       "\n",
       "    .dataframe tbody tr th {\n",
       "        vertical-align: top;\n",
       "    }\n",
       "\n",
       "    .dataframe thead th {\n",
       "        text-align: right;\n",
       "    }\n",
       "</style>\n",
       "<table border=\"1\" class=\"dataframe\">\n",
       "  <thead>\n",
       "    <tr style=\"text-align: right;\">\n",
       "      <th></th>\n",
       "      <th>tip_price</th>\n",
       "    </tr>\n",
       "  </thead>\n",
       "  <tbody>\n",
       "    <tr>\n",
       "      <th>2003-12-05</th>\n",
       "      <td>53.091003</td>\n",
       "    </tr>\n",
       "    <tr>\n",
       "      <th>2003-12-08</th>\n",
       "      <td>53.044086</td>\n",
       "    </tr>\n",
       "    <tr>\n",
       "      <th>2003-12-09</th>\n",
       "      <td>52.908558</td>\n",
       "    </tr>\n",
       "    <tr>\n",
       "      <th>2003-12-10</th>\n",
       "      <td>53.049309</td>\n",
       "    </tr>\n",
       "    <tr>\n",
       "      <th>2003-12-11</th>\n",
       "      <td>53.257832</td>\n",
       "    </tr>\n",
       "    <tr>\n",
       "      <th>...</th>\n",
       "      <td>...</td>\n",
       "    </tr>\n",
       "    <tr>\n",
       "      <th>2024-08-05</th>\n",
       "      <td>108.980003</td>\n",
       "    </tr>\n",
       "    <tr>\n",
       "      <th>2024-08-06</th>\n",
       "      <td>108.349998</td>\n",
       "    </tr>\n",
       "    <tr>\n",
       "      <th>2024-08-07</th>\n",
       "      <td>108.019997</td>\n",
       "    </tr>\n",
       "    <tr>\n",
       "      <th>2024-08-08</th>\n",
       "      <td>107.919998</td>\n",
       "    </tr>\n",
       "    <tr>\n",
       "      <th>2024-08-09</th>\n",
       "      <td>108.195000</td>\n",
       "    </tr>\n",
       "  </tbody>\n",
       "</table>\n",
       "<p>5204 rows × 1 columns</p>\n",
       "</div>"
      ],
      "text/plain": [
       "             tip_price\n",
       "2003-12-05   53.091003\n",
       "2003-12-08   53.044086\n",
       "2003-12-09   52.908558\n",
       "2003-12-10   53.049309\n",
       "2003-12-11   53.257832\n",
       "...                ...\n",
       "2024-08-05  108.980003\n",
       "2024-08-06  108.349998\n",
       "2024-08-07  108.019997\n",
       "2024-08-08  107.919998\n",
       "2024-08-09  108.195000\n",
       "\n",
       "[5204 rows x 1 columns]"
      ]
     },
     "execution_count": 3,
     "metadata": {},
     "output_type": "execute_result"
    }
   ],
   "source": [
    "# Choose the ticker symbol\n",
    "tickerSymbol = 'TIP'\n",
    "\n",
    "# Get data on this ticker\n",
    "tickerData = yf.Ticker(tickerSymbol)\n",
    "\n",
    "# Get the historical prices for this ticker\n",
    "tip = tickerData.history(period=\"max\")\n",
    "\n",
    "# Extract the Closing Price only\n",
    "tip = pd.DataFrame(tip['Close'])\n",
    "\n",
    "# Rename the Close column for clarity\n",
    "tip.rename(columns = {'Close': 'tip_price'}, inplace = True)\n",
    "\n",
    "# Make the date index timezone-naive since the earnings call data will be as well\n",
    "tip.index = [d.date() for d in tip.index.to_pydatetime()]\n",
    "# Visualise\n",
    "tip"
   ]
  },
  {
   "cell_type": "code",
   "execution_count": 20,
   "metadata": {},
   "outputs": [
    {
     "data": {
      "text/plain": [
       "<AxesSubplot:>"
      ]
     },
     "execution_count": 20,
     "metadata": {},
     "output_type": "execute_result"
    },
    {
     "data": {
      "image/png": "[encoded data removed]",
      "text/plain": [
       "<Figure size 640x480 with 1 Axes>"
      ]
     },
     "metadata": {},
     "output_type": "display_data"
    }
   ],
   "source": [
    "tip.plot()"
   ]
  },
  {
   "cell_type": "markdown",
   "metadata": {
    "id": "HkKZkTyj5BqL"
   },
   "source": [
    "## 2.2. Extracting the Data on Earnings Calls\n",
    "\n",
    "The data on the Earnings Calls for Microsoft, including: their dates, the estimated Earnings-per-Share (EPS) and the Actual EPS, can be found on [this website](https://www.alphaquery.com/stock/MSFT/earnings-history)."
   ]
  },
  {
   "cell_type": "code",
   "execution_count": 4,
   "metadata": {
    "id": "0zu0w_rG8T2v"
   },
   "outputs": [],
   "source": [
    "import requests\n",
    "import bs4"
   ]
  },
  {
   "cell_type": "code",
   "execution_count": 5,
   "metadata": {
    "colab": {
     "base_uri": "https://localhost:8080/"
    },
    "id": "8INfZ7ZL-tey",
    "outputId": "ba3235c5-f9fa-4ee1-ac21-493e136be675"
   },
   "outputs": [],
   "source": [
    "# # Install Selenium if not already\n",
    "# pip install selenium\n",
    "# !pip install webdriver-manager\n"
   ]
  },
  {
   "cell_type": "code",
   "execution_count": 6,
   "metadata": {
    "colab": {
     "base_uri": "https://localhost:8080/"
    },
    "id": "3OCvSRCoFoNq",
    "outputId": "12a75bfb-8404-4c81-f7d7-b0413b2ff354"
   },
   "outputs": [],
   "source": [
    "# # Install chromium, its driver, and selenium\n",
    "# !apt-get update\n",
    "# !apt install -y chromium-chromedriver\n"
   ]
  },
  {
   "cell_type": "code",
   "execution_count": 7,
   "metadata": {
    "colab": {
     "base_uri": "https://localhost:8080/",
     "height": 679
    },
    "id": "PYfY1bJZFwjr",
    "outputId": "43187892-ecbd-4419-a4cc-bce1cdbaa4e5"
   },
   "outputs": [
    {
     "data": {
      "text/html": [
       "<div>\n",
       "<style scoped>\n",
       "    .dataframe tbody tr th:only-of-type {\n",
       "        vertical-align: middle;\n",
       "    }\n",
       "\n",
       "    .dataframe tbody tr th {\n",
       "        vertical-align: top;\n",
       "    }\n",
       "\n",
       "    .dataframe thead th {\n",
       "        text-align: right;\n",
       "    }\n",
       "</style>\n",
       "<table border=\"1\" class=\"dataframe\">\n",
       "  <thead>\n",
       "    <tr style=\"text-align: right;\">\n",
       "      <th></th>\n",
       "      <th>estimated_eps</th>\n",
       "      <th>actual_eps</th>\n",
       "    </tr>\n",
       "    <tr>\n",
       "      <th>earnings_call_date</th>\n",
       "      <th></th>\n",
       "      <th></th>\n",
       "    </tr>\n",
       "  </thead>\n",
       "  <tbody>\n",
       "    <tr>\n",
       "      <th>2015-01-26</th>\n",
       "      <td>0.70</td>\n",
       "      <td>0.77</td>\n",
       "    </tr>\n",
       "    <tr>\n",
       "      <th>2015-04-23</th>\n",
       "      <td>0.51</td>\n",
       "      <td>0.62</td>\n",
       "    </tr>\n",
       "    <tr>\n",
       "      <th>2015-07-21</th>\n",
       "      <td>0.56</td>\n",
       "      <td>0.62</td>\n",
       "    </tr>\n",
       "    <tr>\n",
       "      <th>2015-10-22</th>\n",
       "      <td>0.58</td>\n",
       "      <td>0.67</td>\n",
       "    </tr>\n",
       "    <tr>\n",
       "      <th>2016-01-28</th>\n",
       "      <td>0.69</td>\n",
       "      <td>0.78</td>\n",
       "    </tr>\n",
       "    <tr>\n",
       "      <th>2016-04-21</th>\n",
       "      <td>0.63</td>\n",
       "      <td>0.62</td>\n",
       "    </tr>\n",
       "    <tr>\n",
       "      <th>2016-07-19</th>\n",
       "      <td>0.58</td>\n",
       "      <td>0.69</td>\n",
       "    </tr>\n",
       "    <tr>\n",
       "      <th>2016-10-20</th>\n",
       "      <td>0.68</td>\n",
       "      <td>0.76</td>\n",
       "    </tr>\n",
       "    <tr>\n",
       "      <th>2017-01-26</th>\n",
       "      <td>0.79</td>\n",
       "      <td>0.83</td>\n",
       "    </tr>\n",
       "    <tr>\n",
       "      <th>2017-04-27</th>\n",
       "      <td>0.69</td>\n",
       "      <td>0.73</td>\n",
       "    </tr>\n",
       "    <tr>\n",
       "      <th>2017-07-20</th>\n",
       "      <td>0.71</td>\n",
       "      <td>0.98</td>\n",
       "    </tr>\n",
       "    <tr>\n",
       "      <th>2017-10-26</th>\n",
       "      <td>0.72</td>\n",
       "      <td>0.84</td>\n",
       "    </tr>\n",
       "    <tr>\n",
       "      <th>2018-01-31</th>\n",
       "      <td>0.86</td>\n",
       "      <td>0.96</td>\n",
       "    </tr>\n",
       "    <tr>\n",
       "      <th>2018-04-26</th>\n",
       "      <td>0.85</td>\n",
       "      <td>0.95</td>\n",
       "    </tr>\n",
       "    <tr>\n",
       "      <th>2018-07-19</th>\n",
       "      <td>1.07</td>\n",
       "      <td>1.13</td>\n",
       "    </tr>\n",
       "    <tr>\n",
       "      <th>2018-10-24</th>\n",
       "      <td>0.96</td>\n",
       "      <td>1.14</td>\n",
       "    </tr>\n",
       "    <tr>\n",
       "      <th>2019-01-30</th>\n",
       "      <td>1.09</td>\n",
       "      <td>1.10</td>\n",
       "    </tr>\n",
       "    <tr>\n",
       "      <th>2019-04-24</th>\n",
       "      <td>1.00</td>\n",
       "      <td>1.14</td>\n",
       "    </tr>\n",
       "    <tr>\n",
       "      <th>2019-07-18</th>\n",
       "      <td>1.21</td>\n",
       "      <td>1.37</td>\n",
       "    </tr>\n",
       "    <tr>\n",
       "      <th>2019-10-23</th>\n",
       "      <td>1.25</td>\n",
       "      <td>1.38</td>\n",
       "    </tr>\n",
       "    <tr>\n",
       "      <th>2020-01-29</th>\n",
       "      <td>1.32</td>\n",
       "      <td>1.51</td>\n",
       "    </tr>\n",
       "    <tr>\n",
       "      <th>2020-04-29</th>\n",
       "      <td>1.27</td>\n",
       "      <td>1.40</td>\n",
       "    </tr>\n",
       "    <tr>\n",
       "      <th>2020-07-22</th>\n",
       "      <td>1.38</td>\n",
       "      <td>1.46</td>\n",
       "    </tr>\n",
       "    <tr>\n",
       "      <th>2020-10-27</th>\n",
       "      <td>1.53</td>\n",
       "      <td>1.82</td>\n",
       "    </tr>\n",
       "    <tr>\n",
       "      <th>2021-01-26</th>\n",
       "      <td>1.64</td>\n",
       "      <td>2.03</td>\n",
       "    </tr>\n",
       "    <tr>\n",
       "      <th>2021-04-27</th>\n",
       "      <td>1.76</td>\n",
       "      <td>1.95</td>\n",
       "    </tr>\n",
       "    <tr>\n",
       "      <th>2021-07-27</th>\n",
       "      <td>1.90</td>\n",
       "      <td>2.17</td>\n",
       "    </tr>\n",
       "    <tr>\n",
       "      <th>2021-10-26</th>\n",
       "      <td>2.06</td>\n",
       "      <td>2.27</td>\n",
       "    </tr>\n",
       "    <tr>\n",
       "      <th>2022-01-25</th>\n",
       "      <td>2.29</td>\n",
       "      <td>2.48</td>\n",
       "    </tr>\n",
       "    <tr>\n",
       "      <th>2022-04-26</th>\n",
       "      <td>2.18</td>\n",
       "      <td>2.22</td>\n",
       "    </tr>\n",
       "    <tr>\n",
       "      <th>2022-07-26</th>\n",
       "      <td>2.28</td>\n",
       "      <td>2.23</td>\n",
       "    </tr>\n",
       "    <tr>\n",
       "      <th>2022-10-25</th>\n",
       "      <td>2.29</td>\n",
       "      <td>2.35</td>\n",
       "    </tr>\n",
       "    <tr>\n",
       "      <th>2023-01-24</th>\n",
       "      <td>2.27</td>\n",
       "      <td>2.32</td>\n",
       "    </tr>\n",
       "    <tr>\n",
       "      <th>2023-04-25</th>\n",
       "      <td>2.22</td>\n",
       "      <td>2.45</td>\n",
       "    </tr>\n",
       "    <tr>\n",
       "      <th>2023-07-25</th>\n",
       "      <td>2.54</td>\n",
       "      <td>2.69</td>\n",
       "    </tr>\n",
       "    <tr>\n",
       "      <th>2023-10-24</th>\n",
       "      <td>2.65</td>\n",
       "      <td>2.99</td>\n",
       "    </tr>\n",
       "    <tr>\n",
       "      <th>2024-01-30</th>\n",
       "      <td>2.76</td>\n",
       "      <td>2.93</td>\n",
       "    </tr>\n",
       "    <tr>\n",
       "      <th>2024-04-25</th>\n",
       "      <td>2.81</td>\n",
       "      <td>2.94</td>\n",
       "    </tr>\n",
       "    <tr>\n",
       "      <th>2024-07-30</th>\n",
       "      <td>2.90</td>\n",
       "      <td>2.95</td>\n",
       "    </tr>\n",
       "  </tbody>\n",
       "</table>\n",
       "</div>"
      ],
      "text/plain": [
       "                    estimated_eps  actual_eps\n",
       "earnings_call_date                           \n",
       "2015-01-26                   0.70        0.77\n",
       "2015-04-23                   0.51        0.62\n",
       "2015-07-21                   0.56        0.62\n",
       "2015-10-22                   0.58        0.67\n",
       "2016-01-28                   0.69        0.78\n",
       "2016-04-21                   0.63        0.62\n",
       "2016-07-19                   0.58        0.69\n",
       "2016-10-20                   0.68        0.76\n",
       "2017-01-26                   0.79        0.83\n",
       "2017-04-27                   0.69        0.73\n",
       "2017-07-20                   0.71        0.98\n",
       "2017-10-26                   0.72        0.84\n",
       "2018-01-31                   0.86        0.96\n",
       "2018-04-26                   0.85        0.95\n",
       "2018-07-19                   1.07        1.13\n",
       "2018-10-24                   0.96        1.14\n",
       "2019-01-30                   1.09        1.10\n",
       "2019-04-24                   1.00        1.14\n",
       "2019-07-18                   1.21        1.37\n",
       "2019-10-23                   1.25        1.38\n",
       "2020-01-29                   1.32        1.51\n",
       "2020-04-29                   1.27        1.40\n",
       "2020-07-22                   1.38        1.46\n",
       "2020-10-27                   1.53        1.82\n",
       "2021-01-26                   1.64        2.03\n",
       "2021-04-27                   1.76        1.95\n",
       "2021-07-27                   1.90        2.17\n",
       "2021-10-26                   2.06        2.27\n",
       "2022-01-25                   2.29        2.48\n",
       "2022-04-26                   2.18        2.22\n",
       "2022-07-26                   2.28        2.23\n",
       "2022-10-25                   2.29        2.35\n",
       "2023-01-24                   2.27        2.32\n",
       "2023-04-25                   2.22        2.45\n",
       "2023-07-25                   2.54        2.69\n",
       "2023-10-24                   2.65        2.99\n",
       "2024-01-30                   2.76        2.93\n",
       "2024-04-25                   2.81        2.94\n",
       "2024-07-30                   2.90        2.95"
      ]
     },
     "execution_count": 7,
     "metadata": {},
     "output_type": "execute_result"
    }
   ],
   "source": [
    "from selenium import webdriver\n",
    "from selenium.webdriver.common.by import By\n",
    "from selenium.webdriver.chrome.service import Service\n",
    "\n",
    "# Correct path to the ChromeDriver executable\n",
    "service = Service(r'C:\\Program Files\\chromedriver-win64\\chromedriver.exe')  # Replace with the actual path\n",
    "\n",
    "driver = webdriver.Chrome(service=service)\n",
    "\n",
    "# Define the URL\n",
    "url = f'https://www.alphaquery.com/stock/{stock_ticker}/earnings-history'\n",
    "\n",
    "# Navigate to the URL\n",
    "driver.get(url)\n",
    "\n",
    "# Wait for the page to fully load (you can adjust the sleep time if needed)\n",
    "driver.implicitly_wait(10)\n",
    "\n",
    "# Find the table element\n",
    "table = driver.find_element(By.TAG_NAME, 'table')\n",
    "\n",
    "# Extract the table rows\n",
    "rows = table.find_elements(By.TAG_NAME, 'tr')\n",
    "\n",
    "# Initialize a list to store the table data\n",
    "table_data = []\n",
    "\n",
    "# Loop through the rows and extract the data\n",
    "for row in rows:\n",
    "    cells = row.find_elements(By.TAG_NAME, 'td')\n",
    "    cell_data = [cell.text for cell in cells]\n",
    "    table_data.append(cell_data)\n",
    "\n",
    "# Close the WebDriver\n",
    "driver.quit()\n",
    "\n",
    "# Convert the data to a pandas DataFrame\n",
    "earnings_calls = pd.DataFrame(table_data)\n",
    "\n",
    "# Now let's reformat the df for it to be meaningful\n",
    "earnings_calls.drop(0, inplace = True) # The first row is an empty artefact of the scraping and should be removed\n",
    "# Next we will sort through the date so that the ascending order matches\n",
    "# the order of the Price dataframe that will be generated by yfinance\n",
    "earnings_calls.sort_values(by = 0, inplace = True)\n",
    "earnings_calls.reset_index(drop=True, inplace=True) #Reset the index since we removed a row and resorted\n",
    "earnings_calls.drop(1, axis = 1, inplace = True) #Removes column '1' as this is the Date of the Fiscal Quarter End that the Earnings Call relates to.\n",
    "# We are looking at daily events and how they influence *future* prices, so this data is not relevant.\n",
    "\n",
    "# Lets also rename the columns to their original ehadings\n",
    "earnings_calls.rename(columns = {0: 'earnings_call_date', 2: \"estimated_eps\", 3: \"actual_eps\"}, inplace = True)\n",
    "\n",
    "\n",
    "# Cast the Date column to a Datetime object since it will be easier when we want to merge dataframes \n",
    "# later with the yfinance data\n",
    "earnings_calls['earnings_call_date'] = pd.to_datetime(earnings_calls['earnings_call_date'])\n",
    "# We want to make them timezone-naive\n",
    "earnings_calls['earnings_call_date'] = earnings_calls['earnings_call_date'].dt.date\n",
    "\n",
    "#Let's sate the dates column as the index since it will match the format of the data imported by yfinance\n",
    "earnings_calls.set_index('earnings_call_date', inplace = True)\n",
    "\n",
    "# The estimated_eps and actual_eps columns are usually imported as strings preceded with a dollar sign '$'\n",
    "# Let's remove the currency symbol and cast them as floats\n",
    "earnings_calls['estimated_eps'] = earnings_calls['estimated_eps'].str.replace('$', '')\n",
    "earnings_calls['estimated_eps'] = earnings_calls['estimated_eps'].astype(float)\n",
    "earnings_calls['actual_eps'] = earnings_calls['actual_eps'].str.replace('$', '')\n",
    "earnings_calls['actual_eps'] = earnings_calls['actual_eps'].astype(float)\n",
    "# Display the DataFrame\n",
    "earnings_calls\n"
   ]
  },
  {
   "cell_type": "markdown",
   "metadata": {},
   "source": [
    "*** comment"
   ]
  },
  {
   "cell_type": "code",
   "execution_count": 19,
   "metadata": {},
   "outputs": [
    {
     "data": {
      "text/plain": [
       "<AxesSubplot:xlabel='earnings_call_date'>"
      ]
     },
     "execution_count": 19,
     "metadata": {},
     "output_type": "execute_result"
    },
    {
     "data": {
      "image/png": "[encoded data removed]",
      "text/plain": [
       "<Figure size 640x480 with 1 Axes>"
      ]
     },
     "metadata": {},
     "output_type": "display_data"
    }
   ],
   "source": [
    "earnings_calls.plot(style = '.',\n",
    "                   )\n",
    "# plt.show()"
   ]
  },
  {
   "cell_type": "markdown",
   "metadata": {},
   "source": [
    "We can observe the following:\n",
    "* There is an upward trend in the actual earnings per share over the years.\n",
    "* The difference between the actual and the estimated earnings per share over the years remains small\n",
    "* The actual earnings per share tends to always be greater than the estimated."
   ]
  },
  {
   "cell_type": "markdown",
   "metadata": {},
   "source": [
    "## 2.3. Extracting the Daily Closing Prices on MSFT\n",
    "Just like we did for **TIP**, we will use the `yfinance` module to extract historical data on daily closing prices for the stock that we loaded on the 1st cell."
   ]
  },
  {
   "cell_type": "code",
   "execution_count": 8,
   "metadata": {},
   "outputs": [
    {
     "data": {
      "text/html": [
       "<div>\n",
       "<style scoped>\n",
       "    .dataframe tbody tr th:only-of-type {\n",
       "        vertical-align: middle;\n",
       "    }\n",
       "\n",
       "    .dataframe tbody tr th {\n",
       "        vertical-align: top;\n",
       "    }\n",
       "\n",
       "    .dataframe thead th {\n",
       "        text-align: right;\n",
       "    }\n",
       "</style>\n",
       "<table border=\"1\" class=\"dataframe\">\n",
       "  <thead>\n",
       "    <tr style=\"text-align: right;\">\n",
       "      <th></th>\n",
       "      <th>stock_price</th>\n",
       "    </tr>\n",
       "  </thead>\n",
       "  <tbody>\n",
       "    <tr>\n",
       "      <th>1986-03-13</th>\n",
       "      <td>0.060055</td>\n",
       "    </tr>\n",
       "    <tr>\n",
       "      <th>1986-03-14</th>\n",
       "      <td>0.062199</td>\n",
       "    </tr>\n",
       "    <tr>\n",
       "      <th>1986-03-17</th>\n",
       "      <td>0.063272</td>\n",
       "    </tr>\n",
       "    <tr>\n",
       "      <th>1986-03-18</th>\n",
       "      <td>0.061663</td>\n",
       "    </tr>\n",
       "    <tr>\n",
       "      <th>1986-03-19</th>\n",
       "      <td>0.060591</td>\n",
       "    </tr>\n",
       "    <tr>\n",
       "      <th>...</th>\n",
       "      <td>...</td>\n",
       "    </tr>\n",
       "    <tr>\n",
       "      <th>2024-08-05</th>\n",
       "      <td>395.149994</td>\n",
       "    </tr>\n",
       "    <tr>\n",
       "      <th>2024-08-06</th>\n",
       "      <td>399.609985</td>\n",
       "    </tr>\n",
       "    <tr>\n",
       "      <th>2024-08-07</th>\n",
       "      <td>398.429993</td>\n",
       "    </tr>\n",
       "    <tr>\n",
       "      <th>2024-08-08</th>\n",
       "      <td>402.690002</td>\n",
       "    </tr>\n",
       "    <tr>\n",
       "      <th>2024-08-09</th>\n",
       "      <td>404.107605</td>\n",
       "    </tr>\n",
       "  </tbody>\n",
       "</table>\n",
       "<p>9680 rows × 1 columns</p>\n",
       "</div>"
      ],
      "text/plain": [
       "            stock_price\n",
       "1986-03-13     0.060055\n",
       "1986-03-14     0.062199\n",
       "1986-03-17     0.063272\n",
       "1986-03-18     0.061663\n",
       "1986-03-19     0.060591\n",
       "...                 ...\n",
       "2024-08-05   395.149994\n",
       "2024-08-06   399.609985\n",
       "2024-08-07   398.429993\n",
       "2024-08-08   402.690002\n",
       "2024-08-09   404.107605\n",
       "\n",
       "[9680 rows x 1 columns]"
      ]
     },
     "execution_count": 8,
     "metadata": {},
     "output_type": "execute_result"
    }
   ],
   "source": [
    "# Get data on this ticker\n",
    "tickerData = yf.Ticker(stock_ticker) # Loads the financial data on whatever stock ticker we loaded on cell 1\n",
    "\n",
    "# Get the historical prices for this ticker\n",
    "stock = tickerData.history(period=\"max\")\n",
    "# Extract the Closing Price only\n",
    "stock = pd.DataFrame(stock['Close'])\n",
    "\n",
    "# Rename the Close column for clarity\n",
    "stock.rename(columns = {'Close': 'stock_price'}, inplace = True)\n",
    "\n",
    "# Make the date index timezone-naive since the earnings call data will be as well\n",
    "stock.index = [d.date() for d in stock.index.to_pydatetime()]\n",
    "\n",
    "# Visualise\n",
    "stock"
   ]
  },
  {
   "cell_type": "markdown",
   "metadata": {},
   "source": [
    "*** comment"
   ]
  },
  {
   "cell_type": "code",
   "execution_count": 21,
   "metadata": {},
   "outputs": [
    {
     "data": {
      "text/plain": [
       "<AxesSubplot:>"
      ]
     },
     "execution_count": 21,
     "metadata": {},
     "output_type": "execute_result"
    },
    {
     "data": {
      "image/png": "[encoded data removed]",
      "text/plain": [
       "<Figure size 640x480 with 1 Axes>"
      ]
     },
     "metadata": {},
     "output_type": "display_data"
    }
   ],
   "source": [
    "stock.plot()"
   ]
  },
  {
   "cell_type": "markdown",
   "metadata": {},
   "source": [
    "## 2.4. Merging the Three Dataframes according to their Shared Timeline\n"
   ]
  },
  {
   "cell_type": "markdown",
   "metadata": {
    "id": "DuYJ_Xp1Fp0N"
   },
   "source": [
    "Typically, the `yfinance` module can go back as far back in time as the historical data of a stock in the market. For stocks like microsoft and Apple, this could mean over 35 years of data. This is not in itself a problem, except for the fact that in the models that we need to develop, we want to build in two exogeneous variables to help with predictions:\n",
    "* The daily price of a TIP, which started trading on 5th December 2003.\n",
    "* The Microsoft Earnings calls, which go back as far as 26th January 2015. These calls have taken place quarterly since the company first went public in 1986; however, the data for the estimated and actual earnings per share is not available on their site prior to 2015.\n"
   ]
  },
  {
   "cell_type": "code",
   "execution_count": 9,
   "metadata": {
    "colab": {
     "base_uri": "https://localhost:8080/",
     "height": 894
    },
    "id": "WdThZ8m5p9T3",
    "outputId": "b9121e5d-24dd-47a8-8c03-37d6f46ff178"
   },
   "outputs": [],
   "source": [
    "def mindful_concatenator (stock_df, inflation_df, earnings_calls_df):\n",
    "    # First thing we want to do is to only keep the data they have from their shared timelines\n",
    "    # We will fetch the df that starts the latest and filter the others to start at that same date.\n",
    "    latest_date = max(stock_df.index[0], inflation_df.index[0], earnings_calls_df.index[0])\n",
    "    # Now that I have obtained the 'earliest' date they've got in common, I will filter them\n",
    "    new_stock = stock[latest_date:] #Restrict\n",
    "    new_tip = tip[latest_date:]\n",
    "    new_ec = earnings_calls[latest_date:]\n",
    "    # The inflation and stock dataframes should have the same trading dates - bar some market events that\n",
    "    # might have required one of the two tickers to stop trading for a period of time.\n",
    "    # In case this has happened, I will do an inner join to ensure they have the same trading dates.\n",
    "    inflation_with_stock_dfs = pd.concat([new_tip, new_stock], axis = 1, join = 'inner')\n",
    "    # The Earnings Calls data is different - these calls only happen quarterly, so I want there to be a null value\n",
    "    # on any trading date which does not have an earnings call.\n",
    "    combined_df = pd.concat([inflation_with_stock_dfs, new_ec], axis = 1, join = 'outer')\n",
    "    # This would have generated a NaN on every trading date without an earnings call.\n",
    "    return combined_df\n"
   ]
  },
  {
   "cell_type": "code",
   "execution_count": 10,
   "metadata": {},
   "outputs": [],
   "source": [
    "final = mindful_concatenator(stock, tip, earnings_calls)"
   ]
  },
  {
   "cell_type": "code",
   "execution_count": 11,
   "metadata": {
    "scrolled": true
   },
   "outputs": [
    {
     "data": {
      "text/html": [
       "<div>\n",
       "<style scoped>\n",
       "    .dataframe tbody tr th:only-of-type {\n",
       "        vertical-align: middle;\n",
       "    }\n",
       "\n",
       "    .dataframe tbody tr th {\n",
       "        vertical-align: top;\n",
       "    }\n",
       "\n",
       "    .dataframe thead th {\n",
       "        text-align: right;\n",
       "    }\n",
       "</style>\n",
       "<table border=\"1\" class=\"dataframe\">\n",
       "  <thead>\n",
       "    <tr style=\"text-align: right;\">\n",
       "      <th></th>\n",
       "      <th>tip_price</th>\n",
       "      <th>stock_price</th>\n",
       "      <th>estimated_eps</th>\n",
       "      <th>actual_eps</th>\n",
       "    </tr>\n",
       "  </thead>\n",
       "  <tbody>\n",
       "    <tr>\n",
       "      <th>2015-01-26</th>\n",
       "      <td>89.041428</td>\n",
       "      <td>40.520855</td>\n",
       "      <td>0.7</td>\n",
       "      <td>0.77</td>\n",
       "    </tr>\n",
       "    <tr>\n",
       "      <th>2015-01-27</th>\n",
       "      <td>89.322281</td>\n",
       "      <td>36.771320</td>\n",
       "      <td>NaN</td>\n",
       "      <td>NaN</td>\n",
       "    </tr>\n",
       "    <tr>\n",
       "      <th>2015-01-28</th>\n",
       "      <td>89.665565</td>\n",
       "      <td>35.504227</td>\n",
       "      <td>NaN</td>\n",
       "      <td>NaN</td>\n",
       "    </tr>\n",
       "    <tr>\n",
       "      <th>2015-01-29</th>\n",
       "      <td>89.564125</td>\n",
       "      <td>36.211037</td>\n",
       "      <td>NaN</td>\n",
       "      <td>NaN</td>\n",
       "    </tr>\n",
       "    <tr>\n",
       "      <th>2015-01-30</th>\n",
       "      <td>90.211662</td>\n",
       "      <td>34.823284</td>\n",
       "      <td>NaN</td>\n",
       "      <td>NaN</td>\n",
       "    </tr>\n",
       "    <tr>\n",
       "      <th>...</th>\n",
       "      <td>...</td>\n",
       "      <td>...</td>\n",
       "      <td>...</td>\n",
       "      <td>...</td>\n",
       "    </tr>\n",
       "    <tr>\n",
       "      <th>2024-08-05</th>\n",
       "      <td>108.980003</td>\n",
       "      <td>395.149994</td>\n",
       "      <td>NaN</td>\n",
       "      <td>NaN</td>\n",
       "    </tr>\n",
       "    <tr>\n",
       "      <th>2024-08-06</th>\n",
       "      <td>108.349998</td>\n",
       "      <td>399.609985</td>\n",
       "      <td>NaN</td>\n",
       "      <td>NaN</td>\n",
       "    </tr>\n",
       "    <tr>\n",
       "      <th>2024-08-07</th>\n",
       "      <td>108.019997</td>\n",
       "      <td>398.429993</td>\n",
       "      <td>NaN</td>\n",
       "      <td>NaN</td>\n",
       "    </tr>\n",
       "    <tr>\n",
       "      <th>2024-08-08</th>\n",
       "      <td>107.919998</td>\n",
       "      <td>402.690002</td>\n",
       "      <td>NaN</td>\n",
       "      <td>NaN</td>\n",
       "    </tr>\n",
       "    <tr>\n",
       "      <th>2024-08-09</th>\n",
       "      <td>108.195000</td>\n",
       "      <td>404.107605</td>\n",
       "      <td>NaN</td>\n",
       "      <td>NaN</td>\n",
       "    </tr>\n",
       "  </tbody>\n",
       "</table>\n",
       "<p>2402 rows × 4 columns</p>\n",
       "</div>"
      ],
      "text/plain": [
       "             tip_price  stock_price  estimated_eps  actual_eps\n",
       "2015-01-26   89.041428    40.520855            0.7        0.77\n",
       "2015-01-27   89.322281    36.771320            NaN         NaN\n",
       "2015-01-28   89.665565    35.504227            NaN         NaN\n",
       "2015-01-29   89.564125    36.211037            NaN         NaN\n",
       "2015-01-30   90.211662    34.823284            NaN         NaN\n",
       "...                ...          ...            ...         ...\n",
       "2024-08-05  108.980003   395.149994            NaN         NaN\n",
       "2024-08-06  108.349998   399.609985            NaN         NaN\n",
       "2024-08-07  108.019997   398.429993            NaN         NaN\n",
       "2024-08-08  107.919998   402.690002            NaN         NaN\n",
       "2024-08-09  108.195000   404.107605            NaN         NaN\n",
       "\n",
       "[2402 rows x 4 columns]"
      ]
     },
     "execution_count": 11,
     "metadata": {},
     "output_type": "execute_result"
    }
   ],
   "source": [
    "final"
   ]
  },
  {
   "cell_type": "code",
   "execution_count": 12,
   "metadata": {},
   "outputs": [
    {
     "name": "stdout",
     "output_type": "stream",
     "text": [
      "<class 'pandas.core.frame.DataFrame'>\n",
      "Index: 2402 entries, 2015-01-26 to 2024-08-09\n",
      "Data columns (total 4 columns):\n",
      " #   Column         Non-Null Count  Dtype  \n",
      "---  ------         --------------  -----  \n",
      " 0   tip_price      2402 non-null   float64\n",
      " 1   stock_price    2402 non-null   float64\n",
      " 2   estimated_eps  39 non-null     float64\n",
      " 3   actual_eps     39 non-null     float64\n",
      "dtypes: float64(4)\n",
      "memory usage: 93.8+ KB\n"
     ]
    }
   ],
   "source": [
    "final.info()"
   ]
  },
  {
   "cell_type": "markdown",
   "metadata": {},
   "source": [
    "## 2.5. Feature Engineering\n",
    "### 2.5.1. Create another column with the difference between the estimated and the actual earnigns per share."
   ]
  },
  {
   "cell_type": "code",
   "execution_count": 13,
   "metadata": {
    "scrolled": true
   },
   "outputs": [
    {
     "data": {
      "text/html": [
       "<div>\n",
       "<style scoped>\n",
       "    .dataframe tbody tr th:only-of-type {\n",
       "        vertical-align: middle;\n",
       "    }\n",
       "\n",
       "    .dataframe tbody tr th {\n",
       "        vertical-align: top;\n",
       "    }\n",
       "\n",
       "    .dataframe thead th {\n",
       "        text-align: right;\n",
       "    }\n",
       "</style>\n",
       "<table border=\"1\" class=\"dataframe\">\n",
       "  <thead>\n",
       "    <tr style=\"text-align: right;\">\n",
       "      <th></th>\n",
       "      <th>tip_price</th>\n",
       "      <th>stock_price</th>\n",
       "      <th>estimated_eps</th>\n",
       "      <th>actual_eps</th>\n",
       "      <th>eps_delta</th>\n",
       "    </tr>\n",
       "  </thead>\n",
       "  <tbody>\n",
       "    <tr>\n",
       "      <th>2015-01-26</th>\n",
       "      <td>89.041428</td>\n",
       "      <td>40.520855</td>\n",
       "      <td>0.7</td>\n",
       "      <td>0.77</td>\n",
       "      <td>0.07</td>\n",
       "    </tr>\n",
       "    <tr>\n",
       "      <th>2015-01-27</th>\n",
       "      <td>89.322281</td>\n",
       "      <td>36.771320</td>\n",
       "      <td>NaN</td>\n",
       "      <td>NaN</td>\n",
       "      <td>NaN</td>\n",
       "    </tr>\n",
       "    <tr>\n",
       "      <th>2015-01-28</th>\n",
       "      <td>89.665565</td>\n",
       "      <td>35.504227</td>\n",
       "      <td>NaN</td>\n",
       "      <td>NaN</td>\n",
       "      <td>NaN</td>\n",
       "    </tr>\n",
       "    <tr>\n",
       "      <th>2015-01-29</th>\n",
       "      <td>89.564125</td>\n",
       "      <td>36.211037</td>\n",
       "      <td>NaN</td>\n",
       "      <td>NaN</td>\n",
       "      <td>NaN</td>\n",
       "    </tr>\n",
       "    <tr>\n",
       "      <th>2015-01-30</th>\n",
       "      <td>90.211662</td>\n",
       "      <td>34.823284</td>\n",
       "      <td>NaN</td>\n",
       "      <td>NaN</td>\n",
       "      <td>NaN</td>\n",
       "    </tr>\n",
       "    <tr>\n",
       "      <th>...</th>\n",
       "      <td>...</td>\n",
       "      <td>...</td>\n",
       "      <td>...</td>\n",
       "      <td>...</td>\n",
       "      <td>...</td>\n",
       "    </tr>\n",
       "    <tr>\n",
       "      <th>2024-08-05</th>\n",
       "      <td>108.980003</td>\n",
       "      <td>395.149994</td>\n",
       "      <td>NaN</td>\n",
       "      <td>NaN</td>\n",
       "      <td>NaN</td>\n",
       "    </tr>\n",
       "    <tr>\n",
       "      <th>2024-08-06</th>\n",
       "      <td>108.349998</td>\n",
       "      <td>399.609985</td>\n",
       "      <td>NaN</td>\n",
       "      <td>NaN</td>\n",
       "      <td>NaN</td>\n",
       "    </tr>\n",
       "    <tr>\n",
       "      <th>2024-08-07</th>\n",
       "      <td>108.019997</td>\n",
       "      <td>398.429993</td>\n",
       "      <td>NaN</td>\n",
       "      <td>NaN</td>\n",
       "      <td>NaN</td>\n",
       "    </tr>\n",
       "    <tr>\n",
       "      <th>2024-08-08</th>\n",
       "      <td>107.919998</td>\n",
       "      <td>402.690002</td>\n",
       "      <td>NaN</td>\n",
       "      <td>NaN</td>\n",
       "      <td>NaN</td>\n",
       "    </tr>\n",
       "    <tr>\n",
       "      <th>2024-08-09</th>\n",
       "      <td>108.195000</td>\n",
       "      <td>404.107605</td>\n",
       "      <td>NaN</td>\n",
       "      <td>NaN</td>\n",
       "      <td>NaN</td>\n",
       "    </tr>\n",
       "  </tbody>\n",
       "</table>\n",
       "<p>2402 rows × 5 columns</p>\n",
       "</div>"
      ],
      "text/plain": [
       "             tip_price  stock_price  estimated_eps  actual_eps  eps_delta\n",
       "2015-01-26   89.041428    40.520855            0.7        0.77       0.07\n",
       "2015-01-27   89.322281    36.771320            NaN         NaN        NaN\n",
       "2015-01-28   89.665565    35.504227            NaN         NaN        NaN\n",
       "2015-01-29   89.564125    36.211037            NaN         NaN        NaN\n",
       "2015-01-30   90.211662    34.823284            NaN         NaN        NaN\n",
       "...                ...          ...            ...         ...        ...\n",
       "2024-08-05  108.980003   395.149994            NaN         NaN        NaN\n",
       "2024-08-06  108.349998   399.609985            NaN         NaN        NaN\n",
       "2024-08-07  108.019997   398.429993            NaN         NaN        NaN\n",
       "2024-08-08  107.919998   402.690002            NaN         NaN        NaN\n",
       "2024-08-09  108.195000   404.107605            NaN         NaN        NaN\n",
       "\n",
       "[2402 rows x 5 columns]"
      ]
     },
     "execution_count": 13,
     "metadata": {},
     "output_type": "execute_result"
    }
   ],
   "source": [
    "final['eps_delta'] = final['actual_eps'] - final['estimated_eps']\n",
    "\n",
    "final"
   ]
  },
  {
   "cell_type": "markdown",
   "metadata": {},
   "source": [
    "*** When the actual earnings per share (EPS) is greater than the estimated EPS, it is typically referred to as an \"earnings beat.\" This term indicates that the company has performed better than analysts or market expectations."
   ]
  },
  {
   "cell_type": "code",
   "execution_count": 14,
   "metadata": {
    "scrolled": true
   },
   "outputs": [
    {
     "data": {
      "text/html": [
       "<div>\n",
       "<style scoped>\n",
       "    .dataframe tbody tr th:only-of-type {\n",
       "        vertical-align: middle;\n",
       "    }\n",
       "\n",
       "    .dataframe tbody tr th {\n",
       "        vertical-align: top;\n",
       "    }\n",
       "\n",
       "    .dataframe thead th {\n",
       "        text-align: right;\n",
       "    }\n",
       "</style>\n",
       "<table border=\"1\" class=\"dataframe\">\n",
       "  <thead>\n",
       "    <tr style=\"text-align: right;\">\n",
       "      <th></th>\n",
       "      <th>tip_price</th>\n",
       "      <th>stock_price</th>\n",
       "      <th>estimated_eps</th>\n",
       "      <th>actual_eps</th>\n",
       "      <th>eps_delta</th>\n",
       "      <th>earnings_beat</th>\n",
       "    </tr>\n",
       "  </thead>\n",
       "  <tbody>\n",
       "    <tr>\n",
       "      <th>2015-01-26</th>\n",
       "      <td>89.041428</td>\n",
       "      <td>40.520855</td>\n",
       "      <td>0.7</td>\n",
       "      <td>0.77</td>\n",
       "      <td>0.07</td>\n",
       "      <td>1.0</td>\n",
       "    </tr>\n",
       "    <tr>\n",
       "      <th>2015-01-27</th>\n",
       "      <td>89.322281</td>\n",
       "      <td>36.771320</td>\n",
       "      <td>NaN</td>\n",
       "      <td>NaN</td>\n",
       "      <td>NaN</td>\n",
       "      <td>NaN</td>\n",
       "    </tr>\n",
       "    <tr>\n",
       "      <th>2015-01-28</th>\n",
       "      <td>89.665565</td>\n",
       "      <td>35.504227</td>\n",
       "      <td>NaN</td>\n",
       "      <td>NaN</td>\n",
       "      <td>NaN</td>\n",
       "      <td>NaN</td>\n",
       "    </tr>\n",
       "    <tr>\n",
       "      <th>2015-01-29</th>\n",
       "      <td>89.564125</td>\n",
       "      <td>36.211037</td>\n",
       "      <td>NaN</td>\n",
       "      <td>NaN</td>\n",
       "      <td>NaN</td>\n",
       "      <td>NaN</td>\n",
       "    </tr>\n",
       "    <tr>\n",
       "      <th>2015-01-30</th>\n",
       "      <td>90.211662</td>\n",
       "      <td>34.823284</td>\n",
       "      <td>NaN</td>\n",
       "      <td>NaN</td>\n",
       "      <td>NaN</td>\n",
       "      <td>NaN</td>\n",
       "    </tr>\n",
       "    <tr>\n",
       "      <th>...</th>\n",
       "      <td>...</td>\n",
       "      <td>...</td>\n",
       "      <td>...</td>\n",
       "      <td>...</td>\n",
       "      <td>...</td>\n",
       "      <td>...</td>\n",
       "    </tr>\n",
       "    <tr>\n",
       "      <th>2024-08-05</th>\n",
       "      <td>108.980003</td>\n",
       "      <td>395.149994</td>\n",
       "      <td>NaN</td>\n",
       "      <td>NaN</td>\n",
       "      <td>NaN</td>\n",
       "      <td>NaN</td>\n",
       "    </tr>\n",
       "    <tr>\n",
       "      <th>2024-08-06</th>\n",
       "      <td>108.349998</td>\n",
       "      <td>399.609985</td>\n",
       "      <td>NaN</td>\n",
       "      <td>NaN</td>\n",
       "      <td>NaN</td>\n",
       "      <td>NaN</td>\n",
       "    </tr>\n",
       "    <tr>\n",
       "      <th>2024-08-07</th>\n",
       "      <td>108.019997</td>\n",
       "      <td>398.429993</td>\n",
       "      <td>NaN</td>\n",
       "      <td>NaN</td>\n",
       "      <td>NaN</td>\n",
       "      <td>NaN</td>\n",
       "    </tr>\n",
       "    <tr>\n",
       "      <th>2024-08-08</th>\n",
       "      <td>107.919998</td>\n",
       "      <td>402.690002</td>\n",
       "      <td>NaN</td>\n",
       "      <td>NaN</td>\n",
       "      <td>NaN</td>\n",
       "      <td>NaN</td>\n",
       "    </tr>\n",
       "    <tr>\n",
       "      <th>2024-08-09</th>\n",
       "      <td>108.195000</td>\n",
       "      <td>404.107605</td>\n",
       "      <td>NaN</td>\n",
       "      <td>NaN</td>\n",
       "      <td>NaN</td>\n",
       "      <td>NaN</td>\n",
       "    </tr>\n",
       "  </tbody>\n",
       "</table>\n",
       "<p>2402 rows × 6 columns</p>\n",
       "</div>"
      ],
      "text/plain": [
       "             tip_price  stock_price  estimated_eps  actual_eps  eps_delta  \\\n",
       "2015-01-26   89.041428    40.520855            0.7        0.77       0.07   \n",
       "2015-01-27   89.322281    36.771320            NaN         NaN        NaN   \n",
       "2015-01-28   89.665565    35.504227            NaN         NaN        NaN   \n",
       "2015-01-29   89.564125    36.211037            NaN         NaN        NaN   \n",
       "2015-01-30   90.211662    34.823284            NaN         NaN        NaN   \n",
       "...                ...          ...            ...         ...        ...   \n",
       "2024-08-05  108.980003   395.149994            NaN         NaN        NaN   \n",
       "2024-08-06  108.349998   399.609985            NaN         NaN        NaN   \n",
       "2024-08-07  108.019997   398.429993            NaN         NaN        NaN   \n",
       "2024-08-08  107.919998   402.690002            NaN         NaN        NaN   \n",
       "2024-08-09  108.195000   404.107605            NaN         NaN        NaN   \n",
       "\n",
       "            earnings_beat  \n",
       "2015-01-26            1.0  \n",
       "2015-01-27            NaN  \n",
       "2015-01-28            NaN  \n",
       "2015-01-29            NaN  \n",
       "2015-01-30            NaN  \n",
       "...                   ...  \n",
       "2024-08-05            NaN  \n",
       "2024-08-06            NaN  \n",
       "2024-08-07            NaN  \n",
       "2024-08-08            NaN  \n",
       "2024-08-09            NaN  \n",
       "\n",
       "[2402 rows x 6 columns]"
      ]
     },
     "execution_count": 14,
     "metadata": {},
     "output_type": "execute_result"
    }
   ],
   "source": [
    "final['earnings_beat'] = final['eps_delta'].apply(lambda x: 1 if x > 0 else (-1 if x < 0 else np.nan))\n",
    "final"
   ]
  },
  {
   "cell_type": "markdown",
   "metadata": {},
   "source": [
    "*** value _counts"
   ]
  },
  {
   "cell_type": "code",
   "execution_count": 15,
   "metadata": {
    "scrolled": true
   },
   "outputs": [
    {
     "data": {
      "text/plain": [
       " 1.0    37\n",
       "-1.0     2\n",
       "Name: earnings_beat, dtype: int64"
      ]
     },
     "execution_count": 15,
     "metadata": {},
     "output_type": "execute_result"
    }
   ],
   "source": [
    "final.earnings_beat.value_counts()"
   ]
  },
  {
   "cell_type": "code",
   "execution_count": 16,
   "metadata": {},
   "outputs": [
    {
     "name": "stdout",
     "output_type": "stream",
     "text": [
      "<class 'pandas.core.frame.DataFrame'>\n",
      "Index: 2402 entries, 2015-01-26 to 2024-08-09\n",
      "Data columns (total 6 columns):\n",
      " #   Column         Non-Null Count  Dtype  \n",
      "---  ------         --------------  -----  \n",
      " 0   tip_price      2402 non-null   float64\n",
      " 1   stock_price    2402 non-null   float64\n",
      " 2   estimated_eps  39 non-null     float64\n",
      " 3   actual_eps     39 non-null     float64\n",
      " 4   eps_delta      39 non-null     float64\n",
      " 5   earnings_beat  39 non-null     float64\n",
      "dtypes: float64(6)\n",
      "memory usage: 131.4+ KB\n"
     ]
    }
   ],
   "source": [
    "final.info()"
   ]
  },
  {
   "cell_type": "markdown",
   "metadata": {},
   "source": [
    "# 3. Define a Sliding Window\n",
    "A sliding window of 66 days, as that is the average of trading days in between earnings calls. ***"
   ]
  },
  {
   "cell_type": "code",
   "execution_count": 17,
   "metadata": {
    "id": "YombNYHSE8qZ"
   },
   "outputs": [
    {
     "ename": "NameError",
     "evalue": "name 'df_eps' is not defined",
     "output_type": "error",
     "traceback": [
      "\u001b[1;31m---------------------------------------------------------------------------\u001b[0m",
      "\u001b[1;31mNameError\u001b[0m                                 Traceback (most recent call last)",
      "\u001b[1;32m~\\AppData\\Local\\Temp\\ipykernel_11572\\862146960.py\u001b[0m in \u001b[0;36m<module>\u001b[1;34m\u001b[0m\n\u001b[0;32m      7\u001b[0m \u001b[1;33m\u001b[0m\u001b[0m\n\u001b[0;32m      8\u001b[0m \u001b[1;31m# Iterate through the data to create sequences\u001b[0m\u001b[1;33m\u001b[0m\u001b[1;33m\u001b[0m\u001b[0m\n\u001b[1;32m----> 9\u001b[1;33m \u001b[1;32mfor\u001b[0m \u001b[0mi\u001b[0m \u001b[1;32min\u001b[0m \u001b[0mrange\u001b[0m\u001b[1;33m(\u001b[0m\u001b[0mlen\u001b[0m\u001b[1;33m(\u001b[0m\u001b[0mdf_eps\u001b[0m\u001b[1;33m)\u001b[0m \u001b[1;33m-\u001b[0m \u001b[0msequence_length\u001b[0m \u001b[1;33m-\u001b[0m \u001b[1;36m1\u001b[0m\u001b[1;33m)\u001b[0m\u001b[1;33m:\u001b[0m\u001b[1;33m\u001b[0m\u001b[1;33m\u001b[0m\u001b[0m\n\u001b[0m\u001b[0;32m     10\u001b[0m     \u001b[0minput_seq\u001b[0m \u001b[1;33m=\u001b[0m \u001b[0mdf_eps\u001b[0m\u001b[1;33m.\u001b[0m\u001b[0miloc\u001b[0m\u001b[1;33m[\u001b[0m\u001b[0mi\u001b[0m\u001b[1;33m:\u001b[0m\u001b[0mi\u001b[0m \u001b[1;33m+\u001b[0m \u001b[0msequence_length\u001b[0m\u001b[1;33m]\u001b[0m  \u001b[1;31m# This now includes both Price and EPS Ratio\u001b[0m\u001b[1;33m\u001b[0m\u001b[1;33m\u001b[0m\u001b[0m\n\u001b[0;32m     11\u001b[0m     \u001b[0moutput_seq\u001b[0m \u001b[1;33m=\u001b[0m \u001b[0mdf_eps\u001b[0m\u001b[1;33m[\u001b[0m\u001b[1;34m'Price'\u001b[0m\u001b[1;33m]\u001b[0m\u001b[1;33m.\u001b[0m\u001b[0miloc\u001b[0m\u001b[1;33m[\u001b[0m\u001b[0mi\u001b[0m \u001b[1;33m+\u001b[0m \u001b[0msequence_length\u001b[0m\u001b[1;33m]\u001b[0m  \u001b[1;31m# for predicting the next day's price\u001b[0m\u001b[1;33m\u001b[0m\u001b[1;33m\u001b[0m\u001b[0m\n",
      "\u001b[1;31mNameError\u001b[0m: name 'df_eps' is not defined"
     ]
    }
   ],
   "source": [
    "# Initialize lists to store input and output sequences\n",
    "input_sequences = []\n",
    "output_sequences = []\n",
    "\n",
    "# Define sequence length (there is an avg of 62 trading days in between earnings calls)\n",
    "sequence_length = 66 \n",
    "\n",
    "# Iterate through the data to create sequences\n",
    "for i in range(len(df_eps) - sequence_length - 1):\n",
    "    input_seq = df_eps.iloc[i:i + sequence_length]  # This now includes both Price and EPS Ratio\n",
    "    output_seq = df_eps['Price'].iloc[i + sequence_length]  # for predicting the next day's price\n",
    "    input_sequences.append(input_seq.values)  # Converts the DataFrame slice to a NumPy array\n",
    "    output_sequences.append(output_seq)\n",
    "\n",
    "# Convert lists to NumPy arrays\n",
    "X = np.array(input_sequences)\n",
    "y = np.array(output_sequences)"
   ]
  },
  {
   "cell_type": "code",
   "execution_count": null,
   "metadata": {
    "id": "VfvTTHZzE8tD"
   },
   "outputs": [],
   "source": []
  },
  {
   "cell_type": "code",
   "execution_count": null,
   "metadata": {
    "id": "6eDj3ZZME8vJ"
   },
   "outputs": [],
   "source": [
    "# Your lambda function\n",
    "is_even = lambda x: x % 2 == 0\n",
    "\n",
    "# Use the lambda function to check if the number 4 is even\n",
    "result = is_even(4)\n",
    "\n",
    "# Print the result\n",
    "print(result)  # Output should be True\n"
   ]
  },
  {
   "cell_type": "code",
   "execution_count": null,
   "metadata": {
    "id": "U5mutPaxE8yl"
   },
   "outputs": [],
   "source": []
  }
 ],
 "metadata": {
  "colab": {
   "provenance": []
  },
  "kernelspec": {
   "display_name": "Python 3 (ipykernel)",
   "language": "python",
   "name": "python3"
  },
  "language_info": {
   "codemirror_mode": {
    "name": "ipython",
    "version": 3
   },
   "file_extension": ".py",
   "mimetype": "text/x-python",
   "name": "python",
   "nbconvert_exporter": "python",
   "pygments_lexer": "ipython3",
   "version": "3.9.13"
  }
 },
 "nbformat": 4,
 "nbformat_minor": 1
}
